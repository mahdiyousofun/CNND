{
 "cells": [
  {
   "cell_type": "code",
   "execution_count": 1,
   "metadata": {},
   "outputs": [
    {
     "name": "stderr",
     "output_type": "stream",
     "text": [
      "Using TensorFlow backend.\n"
     ]
    },
    {
     "data": {
      "text/plain": [
       "'1.12.0'"
      ]
     },
     "execution_count": 1,
     "metadata": {},
     "output_type": "execute_result"
    }
   ],
   "source": [
    "import numpy as np\n",
    "from matplotlib import pyplot as plt\n",
    "import tensorflow as tf\n",
    "import scipy.io as sio\n",
    "import keras as ks\n",
    "from sklearn import preprocessing\n",
    "import random\n",
    "tf.__version__"
   ]
  },
  {
   "cell_type": "code",
   "execution_count": 2,
   "metadata": {},
   "outputs": [],
   "source": [
    "def loadData(image):\n",
    "\n",
    "    if image is 1:\n",
    "        a = sio.loadmat('San_Diego.mat')\n",
    "    elif image is 2:\n",
    "        a = sio.loadmat('Airport.mat')\n",
    "    elif image is 3:\n",
    "        a = sio.loadmat('Beach.mat')\n",
    "    elif image is 4:\n",
    "        a = sio.loadmat('Urban.mat')\n",
    "    elif image is 5:\n",
    "        a = sio.loadmat('HYDICE_urban.mat')\n",
    "    data = a['data']\n",
    "    labels = a['map']\n",
    "    return data, labels\n",
    "\n",
    "def reshape_to_input_format(input_):\n",
    "    tmp = np.zeros([1,189,1])\n",
    "    for i in range(input_.shape[0]):\n",
    "        tmp[0][i][0] = input_[i]\n",
    "    return tmp"
   ]
  },
  {
   "cell_type": "code",
   "execution_count": 48,
   "metadata": {},
   "outputs": [],
   "source": [
    "model = ks.models.load_model(\"m3-86acc.h5\")"
   ]
  },
  {
   "cell_type": "code",
   "execution_count": 51,
   "metadata": {
    "scrolled": true
   },
   "outputs": [
    {
     "data": {
      "image/png": "[encoded data removed]",
      "text/plain": [
       "<Figure size 432x288 with 1 Axes>"
      ]
     },
     "metadata": {
      "needs_background": "light"
     },
     "output_type": "display_data"
    }
   ],
   "source": [
    "img, gt = loadData(image=2)\n",
    "img = np.float64(img)\n",
    "plt.imshow(gt,cmap='gray')\n",
    "data = []\n",
    "lable = []\n",
    "\n",
    "res = np.zeros([100,100])\n",
    "\n",
    "for y in range(2,98):\n",
    "    for x in range(2,98):\n",
    "        p = img[y][x][:189]\n",
    "        g = gt[y][x]\n",
    "\n",
    "        t1 = img[y-2][x-2][:189]\n",
    "        t2 = img[y-2][x-1][:189]\n",
    "        t3 = img[y-2][x][:189]\n",
    "        t4 = img[y-2][x+1][:189]\n",
    "        t5 = img[y-2][x+2][:189]\n",
    "        t6 = img[y-1][x+2][:189]\n",
    "        t7 = img[y][x+2][:189]\n",
    "        t8 = img[y+1][x+2][:189]\n",
    "        t9 = img[y+2][x+2][:189]\n",
    "        t10 = img[y+2][x+1][:189]\n",
    "        t11 = img[y+2][x][:189]\n",
    "        t12 = img[y+2][x-1][:189]\n",
    "        t13 = img[y+2][x-2][:189]\n",
    "        t14 = img[y+1][x-2][:189]\n",
    "        t15 = img[y][x-2][:189]\n",
    "        t16 = img[y-1][x-2][:189]\n",
    "        data = []\n",
    "        data.append(reshape_to_input_format(np.abs(p-t1)))\n",
    "        data.append(reshape_to_input_format(np.abs(p-t2)))\n",
    "        data.append(reshape_to_input_format(np.abs(p-t3)))\n",
    "        data.append(reshape_to_input_format(np.abs(p-t4)))\n",
    "        data.append(reshape_to_input_format(np.abs(p-t5)))\n",
    "        data.append(reshape_to_input_format(np.abs(p-t6)))\n",
    "        data.append(reshape_to_input_format(np.abs(p-t7)))\n",
    "        data.append(reshape_to_input_format(np.abs(p-t8)))\n",
    "        data.append(reshape_to_input_format(np.abs(p-t9)))\n",
    "        data.append(reshape_to_input_format(np.abs(p-t10)))\n",
    "        data.append(reshape_to_input_format(np.abs(p-t11)))\n",
    "        data.append(reshape_to_input_format(np.abs(p-t12)))\n",
    "        data.append(reshape_to_input_format(np.abs(p-t13)))\n",
    "        data.append(reshape_to_input_format(np.abs(p-t14)))\n",
    "        data.append(reshape_to_input_format(np.abs(p-t15)))\n",
    "        data.append(reshape_to_input_format(np.abs(p-t16)))\n",
    "        \n",
    "        data = np.asarray(data)\n",
    "        r = model.predict(data)\n",
    "        sum = 0\n",
    "        for i in range(len(r)):\n",
    "            sum += r[i]\n",
    "        \n",
    "        d = sum/len(r)\n",
    "        if d > 0.50:\n",
    "            res[y][x] = 1"
   ]
  },
  {
   "cell_type": "code",
   "execution_count": 52,
   "metadata": {},
   "outputs": [
    {
     "data": {
      "text/plain": [
       "<matplotlib.image.AxesImage at 0x26f9e4ac8d0>"
      ]
     },
     "execution_count": 52,
     "metadata": {},
     "output_type": "execute_result"
    },
    {
     "data": {
      "image/png": "[encoded data removed]",
      "text/plain": [
       "<Figure size 432x288 with 1 Axes>"
      ]
     },
     "metadata": {
      "needs_background": "light"
     },
     "output_type": "display_data"
    }
   ],
   "source": [
    "plt.imshow(res,cmap='gray')"
   ]
  },
  {
   "cell_type": "code",
   "execution_count": 23,
   "metadata": {},
   "outputs": [
    {
     "name": "stderr",
     "output_type": "stream",
     "text": [
      "C:\\Users\\This Is Mahdi\\Anaconda\\envs\\tensorflow_env\\lib\\site-packages\\ipykernel_launcher.py:72: RuntimeWarning: overflow encountered in ubyte_scalars\n",
      "C:\\Users\\This Is Mahdi\\Anaconda\\envs\\tensorflow_env\\lib\\site-packages\\ipykernel_launcher.py:73: RuntimeWarning: overflow encountered in ubyte_scalars\n",
      "C:\\Users\\This Is Mahdi\\Anaconda\\envs\\tensorflow_env\\lib\\site-packages\\ipykernel_launcher.py:74: RuntimeWarning: overflow encountered in ubyte_scalars\n",
      "C:\\Users\\This Is Mahdi\\Anaconda\\envs\\tensorflow_env\\lib\\site-packages\\ipykernel_launcher.py:75: RuntimeWarning: overflow encountered in ubyte_scalars\n",
      "C:\\Users\\This Is Mahdi\\Anaconda\\envs\\tensorflow_env\\lib\\site-packages\\ipykernel_launcher.py:76: RuntimeWarning: overflow encountered in ubyte_scalars\n",
      "C:\\Users\\This Is Mahdi\\Anaconda\\envs\\tensorflow_env\\lib\\site-packages\\ipykernel_launcher.py:71: RuntimeWarning: overflow encountered in ubyte_scalars\n",
      "C:\\Users\\This Is Mahdi\\Anaconda\\envs\\tensorflow_env\\lib\\site-packages\\ipykernel_launcher.py:77: RuntimeWarning: overflow encountered in ubyte_scalars\n",
      "C:\\Users\\This Is Mahdi\\Anaconda\\envs\\tensorflow_env\\lib\\site-packages\\ipykernel_launcher.py:70: RuntimeWarning: overflow encountered in ubyte_scalars\n",
      "C:\\Users\\This Is Mahdi\\Anaconda\\envs\\tensorflow_env\\lib\\site-packages\\ipykernel_launcher.py:78: RuntimeWarning: overflow encountered in ubyte_scalars\n",
      "C:\\Users\\This Is Mahdi\\Anaconda\\envs\\tensorflow_env\\lib\\site-packages\\ipykernel_launcher.py:69: RuntimeWarning: overflow encountered in ubyte_scalars\n",
      "C:\\Users\\This Is Mahdi\\Anaconda\\envs\\tensorflow_env\\lib\\site-packages\\ipykernel_launcher.py:79: RuntimeWarning: overflow encountered in ubyte_scalars\n",
      "C:\\Users\\This Is Mahdi\\Anaconda\\envs\\tensorflow_env\\lib\\site-packages\\ipykernel_launcher.py:68: RuntimeWarning: overflow encountered in ubyte_scalars\n",
      "C:\\Users\\This Is Mahdi\\Anaconda\\envs\\tensorflow_env\\lib\\site-packages\\ipykernel_launcher.py:67: RuntimeWarning: overflow encountered in ubyte_scalars\n",
      "C:\\Users\\This Is Mahdi\\Anaconda\\envs\\tensorflow_env\\lib\\site-packages\\ipykernel_launcher.py:64: RuntimeWarning: overflow encountered in ubyte_scalars\n",
      "C:\\Users\\This Is Mahdi\\Anaconda\\envs\\tensorflow_env\\lib\\site-packages\\ipykernel_launcher.py:65: RuntimeWarning: overflow encountered in ubyte_scalars\n",
      "C:\\Users\\This Is Mahdi\\Anaconda\\envs\\tensorflow_env\\lib\\site-packages\\ipykernel_launcher.py:66: RuntimeWarning: overflow encountered in ubyte_scalars\n"
     ]
    },
    {
     "name": "stdout",
     "output_type": "stream",
     "text": [
      "147456\n"
     ]
    },
    {
     "data": {
      "image/png": "[encoded data removed]",
      "text/plain": [
       "<Figure size 432x288 with 1 Axes>"
      ]
     },
     "metadata": {
      "needs_background": "light"
     },
     "output_type": "display_data"
    }
   ],
   "source": [
    "img, gt = loadData(image=2)\n",
    "img = np.float64(img)\n",
    "plt.imshow(gt,cmap='gray')\n",
    "data = []\n",
    "lable = []\n",
    "\n",
    "\n",
    "for y in range(2,98):\n",
    "    for x in range(2,98):\n",
    "        p = img[y][x][:189]\n",
    "        g = gt[y][x]\n",
    "\n",
    "        t1 = img[y-2][x-2][:189]\n",
    "        t2 = img[y-2][x-1][:189]\n",
    "        t3 = img[y-2][x][:189]\n",
    "        t4 = img[y-2][x+1][:189]\n",
    "        t5 = img[y-2][x+2][:189]\n",
    "        t6 = img[y-1][x+2][:189]\n",
    "        t7 = img[y][x+2][:189]\n",
    "        t8 = img[y+1][x+2][:189]\n",
    "        t9 = img[y+2][x+2][:189]\n",
    "        t10 = img[y+2][x+1][:189]\n",
    "        t11 = img[y+2][x][:189]\n",
    "        t12 = img[y+2][x-1][:189]\n",
    "        t13 = img[y+2][x-2][:189]\n",
    "        t14 = img[y+1][x-2][:189]\n",
    "        t15 = img[y][x-2][:189]\n",
    "        t16 = img[y-1][x-2][:189]\n",
    "        \n",
    "        g1 = gt[y-2][x-2]\n",
    "        g2 = gt[y-2][x-1]\n",
    "        g3 = gt[y-2][x]\n",
    "        g4 = gt[y-2][x+1]\n",
    "        g5 = gt[y-2][x+2]\n",
    "        g6 = gt[y-1][x+2]\n",
    "        g7 = gt[y][x+2]\n",
    "        g8 = gt[y+1][x+2]\n",
    "        g9 = gt[y+2][x+2]\n",
    "        g10 = gt[y+2][x+1]\n",
    "        g11 = gt[y+2][x]\n",
    "        g12 = gt[y+2][x-1]\n",
    "        g13 = gt[y+2][x-2]\n",
    "        g14 = gt[y+1][x-2]\n",
    "        g15 = gt[y][x-2]\n",
    "        g16 = gt[y-1][x-2]\n",
    "        \n",
    "        data.append(reshape_to_input_format(np.abs(p-t1)))\n",
    "        data.append(reshape_to_input_format(np.abs(p-t2)))\n",
    "        data.append(reshape_to_input_format(np.abs(p-t3)))\n",
    "        data.append(reshape_to_input_format(np.abs(p-t4)))\n",
    "        data.append(reshape_to_input_format(np.abs(p-t5)))\n",
    "        data.append(reshape_to_input_format(np.abs(p-t6)))\n",
    "        data.append(reshape_to_input_format(np.abs(p-t7)))\n",
    "        data.append(reshape_to_input_format(np.abs(p-t8)))\n",
    "        data.append(reshape_to_input_format(np.abs(p-t9)))\n",
    "        data.append(reshape_to_input_format(np.abs(p-t10)))\n",
    "        data.append(reshape_to_input_format(np.abs(p-t11)))\n",
    "        data.append(reshape_to_input_format(np.abs(p-t12)))\n",
    "        data.append(reshape_to_input_format(np.abs(p-t13)))\n",
    "        data.append(reshape_to_input_format(np.abs(p-t14)))\n",
    "        data.append(reshape_to_input_format(np.abs(p-t15)))\n",
    "        data.append(reshape_to_input_format(np.abs(p-t16)))\n",
    "        \n",
    "        lable.append(np.abs(g-g1))\n",
    "        lable.append(np.abs(g-g2))\n",
    "        lable.append(np.abs(g-g3))\n",
    "        lable.append(np.abs(g-g4))\n",
    "        lable.append(np.abs(g-g5))\n",
    "        lable.append(np.abs(g-g6))\n",
    "        lable.append(np.abs(g-g7))\n",
    "        lable.append(np.abs(g-g8))\n",
    "        lable.append(np.abs(g-g9))\n",
    "        lable.append(np.abs(g-g10))\n",
    "        lable.append(np.abs(g-g11))\n",
    "        lable.append(np.abs(g-g12))\n",
    "        lable.append(np.abs(g-g13))\n",
    "        lable.append(np.abs(g-g14))\n",
    "        lable.append(np.abs(g-g15))\n",
    "        lable.append(np.abs(g-g16))\n",
    "        \n",
    "print(len(data))"
   ]
  },
  {
   "cell_type": "code",
   "execution_count": 25,
   "metadata": {},
   "outputs": [
    {
     "name": "stdout",
     "output_type": "stream",
     "text": [
      "1260\n"
     ]
    }
   ],
   "source": [
    "data_ones = []\n",
    "lable_ones = []\n",
    "\n",
    "data_zero = []\n",
    "lable_zero = []\n",
    "\n",
    "for i in range(len(data)):\n",
    "    if lable[i]==1:\n",
    "        data_ones.append(data[i])\n",
    "        lable_ones.append(1)\n",
    "\n",
    "\n",
    "for i in range(len(data)):\n",
    "    if lable[i]==0:\n",
    "        data_zero.append(data[i])\n",
    "        lable_ones.append(0)\n",
    "\n",
    "data_ones = data_ones[:630]\n",
    "data_zero = data_zero[:630]  \n",
    "test_data = []\n",
    "test_lable = []\n",
    "for i in range(1260):\n",
    "    if i%2==0:\n",
    "        test_data.append(data_ones.pop())\n",
    "        test_lable.append(1)\n",
    "    else:\n",
    "        test_data.append(data_zero.pop())\n",
    "        test_lable.append(0)\n",
    "print(len(test_data))"
   ]
  },
  {
   "cell_type": "code",
   "execution_count": 46,
   "metadata": {},
   "outputs": [],
   "source": [
    "model = ks.models.load_model(\"m.h5\")"
   ]
  },
  {
   "cell_type": "code",
   "execution_count": 47,
   "metadata": {},
   "outputs": [
    {
     "name": "stdout",
     "output_type": "stream",
     "text": [
      "1260/1260 [==============================] - 2s 1ms/step\n",
      "[0.373461747926379, 0.8611111113003322]\n"
     ]
    }
   ],
   "source": [
    "test_data = np.asarray(test_data)\n",
    "test_lable = np.asarray(test_lable)\n",
    "\n",
    "score = model.evaluate(test_data, test_lable,verbose=1)\n",
    "\n",
    "print(score)"
   ]
  },
  {
   "cell_type": "code",
   "execution_count": null,
   "metadata": {},
   "outputs": [],
   "source": []
  },
  {
   "cell_type": "code",
   "execution_count": null,
   "metadata": {},
   "outputs": [],
   "source": []
  }
 ],
 "metadata": {
  "kernelspec": {
   "display_name": "Python 3",
   "language": "python",
   "name": "python3"
  },
  "language_info": {
   "codemirror_mode": {
    "name": "ipython",
    "version": 3
   },
   "file_extension": ".py",
   "mimetype": "text/x-python",
   "name": "python",
   "nbconvert_exporter": "python",
   "pygments_lexer": "ipython3",
   "version": "3.6.7"
  }
 },
 "nbformat": 4,
 "nbformat_minor": 2
}

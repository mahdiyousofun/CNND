{
 "cells": [
  {
   "cell_type": "markdown",
   "metadata": {},
   "source": [
    "make grayscale image by open cv:"
   ]
  },
  {
   "cell_type": "code",
   "execution_count": 32,
   "metadata": {
    "scrolled": true
   },
   "outputs": [
    {
     "data": {
      "text/plain": [
       "'1.12.0'"
      ]
     },
     "execution_count": 32,
     "metadata": {},
     "output_type": "execute_result"
    }
   ],
   "source": [
    "import numpy as np\n",
    "from matplotlib import pyplot as plt\n",
    "import tensorflow as tf\n",
    "import scipy.io as sio\n",
    "from sklearn import preprocessing\n",
    "import random\n",
    "tf.__version__"
   ]
  },
  {
   "cell_type": "code",
   "execution_count": 2,
   "metadata": {},
   "outputs": [],
   "source": [
    "def loadData(image):\n",
    "\n",
    "    if image is 1:\n",
    "        a = sio.loadmat('San_Diego.mat')\n",
    "    elif image is 2:\n",
    "        a = sio.loadmat('Airport.mat')\n",
    "    elif image is 3:\n",
    "        a = sio.loadmat('Beach.mat')\n",
    "    elif image is 4:\n",
    "        a = sio.loadmat('Urban.mat')\n",
    "    elif image is 5:\n",
    "        a = sio.loadmat('HYDICE_urban.mat')\n",
    "    data = a['data']\n",
    "    labels = a['map']\n",
    "    return data, labels\n",
    "\n",
    "def reshape_to_input_format(input_):\n",
    "    tmp = np.zeros([1,189,1])\n",
    "    for i in range(input_.shape[0]):\n",
    "        tmp[0][i][0] = input_[i]\n",
    "    return tmp"
   ]
  },
  {
   "cell_type": "code",
   "execution_count": 121,
   "metadata": {},
   "outputs": [],
   "source": [
    "# generate your data here !\n",
    "data, gt = loadData(image=1)\n",
    "data = np.float64(data)\n",
    "\n"
   ]
  },
  {
   "cell_type": "code",
   "execution_count": null,
   "metadata": {},
   "outputs": [],
   "source": []
  },
  {
   "cell_type": "code",
   "execution_count": 123,
   "metadata": {},
   "outputs": [],
   "source": []
  },
  {
   "cell_type": "code",
   "execution_count": null,
   "metadata": {},
   "outputs": [],
   "source": []
  },
  {
   "cell_type": "code",
   "execution_count": 80,
   "metadata": {},
   "outputs": [],
   "source": [
    "# define layers\n",
    "x = tf.placeholder(dtype=tf.float32,shape=[None, 1,189,1])\n",
    "y_true = tf.placeholder(dtype=tf.float32, shape=[None,2])\n",
    "\n",
    "kernel = (1,3)\n",
    "\n",
    "net = x\n",
    "\n",
    "net = tf.layers.conv2d(inputs=net, filters=20, kernel_size=kernel, padding='same')\n",
    "net = tf.layers.conv2d(inputs=net, filters=20, kernel_size=kernel, padding='same', activation=tf.nn.relu)\n",
    "net = tf.layers.conv2d(inputs=net, filters=20, kernel_size=kernel, padding='same', activation=tf.nn.relu)\n",
    "\n",
    "net = tf.layers.conv2d(inputs=net, filters=30, kernel_size=kernel, padding='same',strides=2)\n",
    "net = tf.layers.conv2d(inputs=net, filters=30, kernel_size=kernel, padding='same', activation=tf.nn.relu)\n",
    "net = tf.layers.conv2d(inputs=net, filters=30, kernel_size=kernel, padding='same', activation=tf.nn.relu)\n",
    "\n",
    "net = tf.layers.conv2d(inputs=net, filters=40, kernel_size=kernel, padding='same',strides=2)\n",
    "net = tf.layers.conv2d(inputs=net, filters=40, kernel_size=kernel, padding='same', activation=tf.nn.relu)\n",
    "net = tf.layers.conv2d(inputs=net, filters=40, kernel_size=kernel, padding='same', activation=tf.nn.relu)\n",
    "\n",
    "net = tf.layers.conv2d(inputs=net, filters=30, kernel_size=kernel, padding='same',strides=2)\n",
    "net = tf.layers.conv2d(inputs=net, filters=30, kernel_size=kernel, padding='same', activation=tf.nn.relu)\n",
    "net = tf.layers.conv2d(inputs=net, filters=30, kernel_size=kernel, padding='same', activation=tf.nn.relu)\n",
    "\n",
    "net = tf.layers.conv2d(inputs=net, filters=20, kernel_size=kernel, padding='same',strides=2)\n",
    "net = tf.layers.conv2d(inputs=net, filters=20, kernel_size=kernel, padding='same', activation=tf.nn.relu)\n",
    "net = tf.layers.conv2d(inputs=net, filters=20, kernel_size=kernel, padding='same', activation=tf.nn.relu)\n",
    "\n",
    "net = tf.layers.conv2d(inputs=net, filters=20, kernel_size=kernel, padding='same',strides=2)\n",
    "\n",
    "# net = tf.reshape(net, shape=[-1,20,7])\n",
    "# net = ks.backend.mean(net, axis=1,keepdims=False)\n",
    "net = tf.layers.flatten(inputs=net)\n",
    "logits = tf.layers.dense(inputs=net, units=2, activation=None)\n",
    "\n",
    "\n",
    "#define loss function\n",
    "\n",
    "\n",
    "cross_entropy = tf.nn.softmax_cross_entropy_with_logits(labels=y_true, logits=logits)\n",
    "loss = tf.reduce_mean(cross_entropy)\n",
    "\n",
    "train_op = tf.train.AdamOptimizer(learning_rate=0.001).minimize(loss)\n",
    "\n",
    "\n",
    "\n",
    "y_pred = tf.nn.softmax(logits=logits)\n",
    "correct_pred  = tf.argmax(y_pred, axis=1)\n",
    "\n",
    "accuracy = tf.reduce_mean(tf.cast(correct_pred , tf.float32))"
   ]
  },
  {
   "cell_type": "code",
   "execution_count": 124,
   "metadata": {},
   "outputs": [
    {
     "name": "stdout",
     "output_type": "stream",
     "text": [
      "EPOCH 1\n",
      "Loss:  6.5488324\n",
      "EPOCH 2\n",
      "Loss:  2.468148\n",
      "EPOCH 3\n",
      "Loss:  1.9367925\n",
      "EPOCH 4\n",
      "Loss:  1.1901418\n",
      "EPOCH 5\n",
      "Loss:  1.2994984\n",
      "EPOCH 6\n",
      "Loss:  0.98858494\n",
      "EPOCH 7\n",
      "Loss:  0.8199803\n",
      "EPOCH 8\n",
      "Loss:  0.9608698\n",
      "EPOCH 9\n",
      "Loss:  0.9192001\n",
      "EPOCH 10\n",
      "Loss:  0.83574873\n",
      "EPOCH 11\n",
      "Loss:  0.778063\n",
      "EPOCH 12\n",
      "Loss:  0.7733319\n",
      "EPOCH 13\n",
      "Loss:  0.7972518\n",
      "EPOCH 14\n",
      "Loss:  0.761114\n",
      "EPOCH 15\n",
      "Loss:  0.7397255\n"
     ]
    }
   ],
   "source": [
    "tf.set_random_seed(1234)\n",
    "sess = tf.Session()\n",
    "sess.run(tf.global_variables_initializer())\n",
    "\n",
    "for i in range(15):\n",
    "        print('EPOCH', i+1)\n",
    "        _, accuracy_val = sess.run([train_op, accuracy], feed_dict={x: train_data, y_true: train_lable})\n",
    "        #if i % 2 == 0:\n",
    "        print(\"Loss: \", sess.run(loss,feed_dict={x: train_data, y_true: train_lable}))"
   ]
  },
  {
   "cell_type": "code",
   "execution_count": 125,
   "metadata": {},
   "outputs": [],
   "source": [
    "predicted = sess.run([correct_pred], feed_dict={x: test_data})[0]"
   ]
  },
  {
   "cell_type": "code",
   "execution_count": 149,
   "metadata": {},
   "outputs": [
    {
     "name": "stdout",
     "output_type": "stream",
     "text": [
      "50.06666666666667\n"
     ]
    }
   ],
   "source": [
    "sample_ix = random.sample(range(len(test_data)),1500)\n",
    "\n",
    "sample_data = [test_data[i] for i in sample_ix]\n",
    "sample_labels = [test_lable[i] for i in sample_ix]\n",
    "\n",
    "predicted = sess.run([correct_pred], feed_dict={x: sample_data})[0]\n",
    "\n",
    "sum = 0\n",
    "for i in range(len(predicted)):\n",
    "    if predicted[i] == sample_labels[i]:\n",
    "        sum +=1\n",
    "\n",
    "\n",
    "print(float(sum/len(predicted))*100)\n",
    "\n",
    "\n",
    "\n",
    "\n",
    "\n",
    "# for y,y_ in zip(test_lable, predicted):\n",
    "#     if y == y_:\n",
    "#         match_count.append(1)\n",
    "# match_count = sum(match_count)\n",
    "# acc = match_count / len(test_lable)\n",
    "# print(str(acc*100)+\" %\")"
   ]
  },
  {
   "cell_type": "code",
   "execution_count": null,
   "metadata": {},
   "outputs": [],
   "source": []
  },
  {
   "cell_type": "code",
   "execution_count": null,
   "metadata": {},
   "outputs": [],
   "source": []
  }
 ],
 "metadata": {
  "kernelspec": {
   "display_name": "Python 3",
   "language": "python",
   "name": "python3"
  },
  "language_info": {
   "codemirror_mode": {
    "name": "ipython",
    "version": 3
   },
   "file_extension": ".py",
   "mimetype": "text/x-python",
   "name": "python",
   "nbconvert_exporter": "python",
   "pygments_lexer": "ipython3",
   "version": "3.6.7"
  }
 },
 "nbformat": 4,
 "nbformat_minor": 1
}

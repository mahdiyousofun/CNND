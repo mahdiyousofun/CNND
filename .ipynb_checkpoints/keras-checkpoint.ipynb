{
 "cells": [
  {
   "cell_type": "code",
   "execution_count": 1,
   "metadata": {},
   "outputs": [
    {
     "name": "stderr",
     "output_type": "stream",
     "text": [
      "Using TensorFlow backend.\n"
     ]
    },
    {
     "data": {
      "text/plain": [
       "'1.12.0'"
      ]
     },
     "execution_count": 1,
     "metadata": {},
     "output_type": "execute_result"
    }
   ],
   "source": [
    "import numpy as np\n",
    "from matplotlib import pyplot as plt\n",
    "import tensorflow as tf\n",
    "import scipy.io as sio\n",
    "import keras as ks\n",
    "from sklearn import preprocessing\n",
    "import random\n",
    "tf.__version__"
   ]
  },
  {
   "cell_type": "code",
   "execution_count": 2,
   "metadata": {},
   "outputs": [],
   "source": [
    "def loadData(image):\n",
    "\n",
    "    if image is 1:\n",
    "        a = sio.loadmat('San_Diego.mat')\n",
    "    elif image is 2:\n",
    "        a = sio.loadmat('Airport.mat')\n",
    "    elif image is 3:\n",
    "        a = sio.loadmat('Beach.mat')\n",
    "    elif image is 4:\n",
    "        a = sio.loadmat('Urban.mat')\n",
    "    elif image is 5:\n",
    "        a = sio.loadmat('HYDICE_urban.mat')\n",
    "    data = a['data']\n",
    "    labels = a['map']\n",
    "    return data, labels\n",
    "\n",
    "def reshape_to_input_format(input_):\n",
    "    tmp = np.zeros([1,189,1])\n",
    "    for i in range(input_.shape[0]):\n",
    "        tmp[0][i][0] = input_[i]\n",
    "    return tmp"
   ]
  },
  {
   "cell_type": "code",
   "execution_count": 29,
   "metadata": {},
   "outputs": [
    {
     "name": "stderr",
     "output_type": "stream",
     "text": [
      "C:\\Users\\This Is Mahdi\\Anaconda\\envs\\tensorflow_env\\lib\\site-packages\\ipykernel_launcher.py:68: RuntimeWarning: overflow encountered in ubyte_scalars\n",
      "C:\\Users\\This Is Mahdi\\Anaconda\\envs\\tensorflow_env\\lib\\site-packages\\ipykernel_launcher.py:67: RuntimeWarning: overflow encountered in ubyte_scalars\n",
      "C:\\Users\\This Is Mahdi\\Anaconda\\envs\\tensorflow_env\\lib\\site-packages\\ipykernel_launcher.py:66: RuntimeWarning: overflow encountered in ubyte_scalars\n",
      "C:\\Users\\This Is Mahdi\\Anaconda\\envs\\tensorflow_env\\lib\\site-packages\\ipykernel_launcher.py:65: RuntimeWarning: overflow encountered in ubyte_scalars\n",
      "C:\\Users\\This Is Mahdi\\Anaconda\\envs\\tensorflow_env\\lib\\site-packages\\ipykernel_launcher.py:64: RuntimeWarning: overflow encountered in ubyte_scalars\n",
      "C:\\Users\\This Is Mahdi\\Anaconda\\envs\\tensorflow_env\\lib\\site-packages\\ipykernel_launcher.py:72: RuntimeWarning: overflow encountered in ubyte_scalars\n",
      "C:\\Users\\This Is Mahdi\\Anaconda\\envs\\tensorflow_env\\lib\\site-packages\\ipykernel_launcher.py:73: RuntimeWarning: overflow encountered in ubyte_scalars\n",
      "C:\\Users\\This Is Mahdi\\Anaconda\\envs\\tensorflow_env\\lib\\site-packages\\ipykernel_launcher.py:74: RuntimeWarning: overflow encountered in ubyte_scalars\n",
      "C:\\Users\\This Is Mahdi\\Anaconda\\envs\\tensorflow_env\\lib\\site-packages\\ipykernel_launcher.py:75: RuntimeWarning: overflow encountered in ubyte_scalars\n",
      "C:\\Users\\This Is Mahdi\\Anaconda\\envs\\tensorflow_env\\lib\\site-packages\\ipykernel_launcher.py:76: RuntimeWarning: overflow encountered in ubyte_scalars\n",
      "C:\\Users\\This Is Mahdi\\Anaconda\\envs\\tensorflow_env\\lib\\site-packages\\ipykernel_launcher.py:71: RuntimeWarning: overflow encountered in ubyte_scalars\n",
      "C:\\Users\\This Is Mahdi\\Anaconda\\envs\\tensorflow_env\\lib\\site-packages\\ipykernel_launcher.py:77: RuntimeWarning: overflow encountered in ubyte_scalars\n",
      "C:\\Users\\This Is Mahdi\\Anaconda\\envs\\tensorflow_env\\lib\\site-packages\\ipykernel_launcher.py:70: RuntimeWarning: overflow encountered in ubyte_scalars\n",
      "C:\\Users\\This Is Mahdi\\Anaconda\\envs\\tensorflow_env\\lib\\site-packages\\ipykernel_launcher.py:78: RuntimeWarning: overflow encountered in ubyte_scalars\n",
      "C:\\Users\\This Is Mahdi\\Anaconda\\envs\\tensorflow_env\\lib\\site-packages\\ipykernel_launcher.py:69: RuntimeWarning: overflow encountered in ubyte_scalars\n",
      "C:\\Users\\This Is Mahdi\\Anaconda\\envs\\tensorflow_env\\lib\\site-packages\\ipykernel_launcher.py:79: RuntimeWarning: overflow encountered in ubyte_scalars\n"
     ]
    },
    {
     "data": {
      "image/png": "[encoded data removed]",
      "text/plain": [
       "<Figure size 432x288 with 1 Axes>"
      ]
     },
     "metadata": {
      "needs_background": "light"
     },
     "output_type": "display_data"
    }
   ],
   "source": [
    "#generate your data here\n",
    "img, gt = loadData(image=1)\n",
    "img = np.float64(img)\n",
    "plt.imshow(gt,cmap='gray')\n",
    "data = []\n",
    "lable = []\n",
    "\n",
    "for y in range(40,90):\n",
    "    for x in range(10,60):\n",
    "        p = img[y][x][:]\n",
    "        g = gt[y][x]\n",
    "\n",
    "        t1 = img[y-2][x-2][:]\n",
    "        t2 = img[y-2][x-1][:]\n",
    "        t3 = img[y-2][x][:]\n",
    "        t4 = img[y-2][x+1][:]\n",
    "        t5 = img[y-2][x+2][:]\n",
    "        t6 = img[y-1][x+2][:]\n",
    "        t7 = img[y][x+2][:]\n",
    "        t8 = img[y+1][x+2][:]\n",
    "        t9 = img[y+2][x+2][:]\n",
    "        t10 = img[y+2][x+1][:]\n",
    "        t11 = img[y+2][x][:]\n",
    "        t12 = img[y+2][x-1][:]\n",
    "        t13 = img[y+2][x-2][:]\n",
    "        t14 = img[y+1][x-2][:]\n",
    "        t15 = img[y][x-2][:]\n",
    "        t16 = img[y-1][x-2][:]\n",
    "        \n",
    "        g1 = gt[y-2][x-2]\n",
    "        g2 = gt[y-2][x-1]\n",
    "        g3 = gt[y-2][x]\n",
    "        g4 = gt[y-2][x+1]\n",
    "        g5 = gt[y-2][x+2]\n",
    "        g6 = gt[y-1][x+2]\n",
    "        g7 = gt[y][x+2]\n",
    "        g8 = gt[y+1][x+2]\n",
    "        g9 = gt[y+2][x+2]\n",
    "        g10 = gt[y+2][x+1]\n",
    "        g11 = gt[y+2][x]\n",
    "        g12 = gt[y+2][x-1]\n",
    "        g13 = gt[y+2][x-2]\n",
    "        g14 = gt[y+1][x-2]\n",
    "        g15 = gt[y][x-2]\n",
    "        g16 = gt[y-1][x-2]\n",
    "        \n",
    "        data.append(reshape_to_input_format(p-t1))\n",
    "        data.append(reshape_to_input_format(p-t2))\n",
    "        data.append(reshape_to_input_format(p-t3))\n",
    "        data.append(reshape_to_input_format(p-t4))\n",
    "        data.append(reshape_to_input_format(p-t5))\n",
    "        data.append(reshape_to_input_format(p-t6))\n",
    "        data.append(reshape_to_input_format(p-t7))\n",
    "        data.append(reshape_to_input_format(p-t8))\n",
    "        data.append(reshape_to_input_format(p-t9))\n",
    "        data.append(reshape_to_input_format(p-t10))\n",
    "        data.append(reshape_to_input_format(p-t11))\n",
    "        data.append(reshape_to_input_format(p-t12))\n",
    "        data.append(reshape_to_input_format(p-t13))\n",
    "        data.append(reshape_to_input_format(p-t14))\n",
    "        data.append(reshape_to_input_format(p-t15))\n",
    "        data.append(reshape_to_input_format(p-t16))\n",
    "        \n",
    "        lable.append(np.abs(g-g1))\n",
    "        lable.append(np.abs(g-g2))\n",
    "        lable.append(np.abs(g-g3))\n",
    "        lable.append(np.abs(g-g4))\n",
    "        lable.append(np.abs(g-g5))\n",
    "        lable.append(np.abs(g-g6))\n",
    "        lable.append(np.abs(g-g7))\n",
    "        lable.append(np.abs(g-g8))\n",
    "        lable.append(np.abs(g-g9))\n",
    "        lable.append(np.abs(g-g10))\n",
    "        lable.append(np.abs(g-g11))\n",
    "        lable.append(np.abs(g-g12))\n",
    "        lable.append(np.abs(g-g13))\n",
    "        lable.append(np.abs(g-g14))\n",
    "        lable.append(np.abs(g-g15))\n",
    "        lable.append(np.abs(g-g16))\n",
    "        "
   ]
  },
  {
   "cell_type": "code",
   "execution_count": 30,
   "metadata": {},
   "outputs": [
    {
     "name": "stdout",
     "output_type": "stream",
     "text": [
      "1600\n"
     ]
    }
   ],
   "source": [
    "data_ones = []\n",
    "lable_ones = []\n",
    "\n",
    "data_zero = []\n",
    "lable_zero = []\n",
    "\n",
    "for i in range(len(data)):\n",
    "    if lable[i]==1:\n",
    "        data_ones.append(data[i])\n",
    "        lable_ones.append(1)\n",
    "        \n",
    "for i in range(len(data)):\n",
    "    if lable[i]==0:\n",
    "        data_zero.append(data[i])\n",
    "        lable_ones.append(0)\n",
    "\n",
    "\n",
    "data_ones = data_ones[:800]\n",
    "data_zero = data_zero[:800]  \n",
    "train_data = []\n",
    "train_lable = []\n",
    "for i in range(1600):\n",
    "    if i%2==0:\n",
    "        train_data.append(data_ones.pop())\n",
    "        train_lable.append(1)\n",
    "    else:\n",
    "        train_data.append(data_zero.pop())\n",
    "        train_lable.append(0)\n",
    "print(len(train_data))"
   ]
  },
  {
   "cell_type": "code",
   "execution_count": 34,
   "metadata": {},
   "outputs": [],
   "source": [
    "w = (1,3)\n",
    "model = ks.Sequential()\n",
    "\n",
    "model.add(ks.layers.Conv2D(20 ,kernel_size=w ,padding='same', input_shape=(1,189,1)))\n",
    "model.add(ks.layers.Conv2D(20 ,kernel_size=w ,padding='same', activation='relu'))\n",
    "model.add(ks.layers.Conv2D(20 ,kernel_size=w ,padding='same', activation='relu'))\n",
    "\n",
    "model.add(ks.layers.Conv2D(30 ,kernel_size=w ,padding='same', strides=2))\n",
    "model.add(ks.layers.Conv2D(30 ,kernel_size=w ,padding='same', activation='relu'))\n",
    "model.add(ks.layers.Conv2D(30 ,kernel_size=w ,padding='same', activation='relu'))\n",
    "\n",
    "model.add(ks.layers.Conv2D(40 ,kernel_size=w ,padding='same', strides=2))\n",
    "model.add(ks.layers.Conv2D(40 ,kernel_size=w ,padding='same', activation='relu'))\n",
    "model.add(ks.layers.Conv2D(40 ,kernel_size=w ,padding='same', activation='relu'))\n",
    "\n",
    "model.add(ks.layers.Conv2D(30 ,kernel_size=w ,padding='same', strides=2))\n",
    "model.add(ks.layers.Conv2D(30 ,kernel_size=w ,padding='same', activation='relu'))\n",
    "model.add(ks.layers.Conv2D(30 ,kernel_size=w ,padding='same', activation='relu'))\n",
    "\n",
    "model.add(ks.layers.Conv2D(20 ,kernel_size=w ,padding='same', strides=2))\n",
    "model.add(ks.layers.Conv2D(20 ,kernel_size=w ,padding='same', activation='relu'))\n",
    "model.add(ks.layers.Conv2D(20 ,kernel_size=w ,padding='same', activation='relu'))\n",
    "model.add(ks.layers.Conv2D(20 ,kernel_size=w ,padding='same', strides=2))\n",
    "\n",
    "model.add(ks.layers.Flatten())\n",
    "model.add(ks.layers.Dense(1,activation='sigmoid'))"
   ]
  },
  {
   "cell_type": "code",
   "execution_count": 35,
   "metadata": {},
   "outputs": [],
   "source": [
    "model.compile(loss='binary_crossentropy',\n",
    "              optimizer='adam',\n",
    "              metrics=['accuracy'])"
   ]
  },
  {
   "cell_type": "code",
   "execution_count": null,
   "metadata": {},
   "outputs": [
    {
     "name": "stdout",
     "output_type": "stream",
     "text": [
      "Epoch 1/7\n",
      "1600/1600 [==============================] - 22s 14ms/step - loss: 6.0429 - acc: 0.6250\n",
      "Epoch 2/7\n",
      " 871/1600 [===============>..............] - ETA: 10s - loss: 6.0126 - acc: 0.6269"
     ]
    }
   ],
   "source": [
    "train_data = np.asarray(train_data)\n",
    "train_lable = np.asarray(train_lable)\n",
    "model.fit(train_data, train_lable,epochs=7, batch_size=1, verbose=1)"
   ]
  },
  {
   "cell_type": "code",
   "execution_count": null,
   "metadata": {},
   "outputs": [],
   "source": []
  }
 ],
 "metadata": {
  "kernelspec": {
   "display_name": "Python 3",
   "language": "python",
   "name": "python3"
  },
  "language_info": {
   "codemirror_mode": {
    "name": "ipython",
    "version": 3
   },
   "file_extension": ".py",
   "mimetype": "text/x-python",
   "name": "python",
   "nbconvert_exporter": "python",
   "pygments_lexer": "ipython3",
   "version": "3.6.7"
  }
 },
 "nbformat": 4,
 "nbformat_minor": 2
}
